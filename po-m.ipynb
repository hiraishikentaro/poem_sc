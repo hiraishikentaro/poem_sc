{
 "cells": [
  {
   "cell_type": "code",
   "execution_count": 1,
   "metadata": {},
   "outputs": [],
   "source": [
    "from urllib import request\n",
    "from bs4 import BeautifulSoup"
   ]
  },
  {
   "cell_type": "code",
   "execution_count": 2,
   "metadata": {},
   "outputs": [],
   "source": [
    "url = 'https://po-m.com/forum/grpframe.php?gid=1367'\n",
    "html = request.urlopen(url)"
   ]
  },
  {
   "cell_type": "code",
   "execution_count": 3,
   "metadata": {},
   "outputs": [],
   "source": [
    "soup = BeautifulSoup(html)"
   ]
  },
  {
   "cell_type": "code",
   "execution_count": 4,
   "metadata": {},
   "outputs": [
    {
     "data": {
      "text/plain": [
       "<html>\n",
       "<meta content=\"text/html;charset=utf-8\" http-equiv=\"content-type\"/>\n",
       "<head>\n",
       "<title>文書グループ</title>\n",
       "</head>\n",
       "<frameset cols=\"*,400\" frameborder=\"0\">\n",
       "<frame name=\"main\" src=\"./showdoc.php?did=114131\"/><frame name=\"list\" src=\"./grpshow.php?gid=1367\"/></frameset>\n",
       "<noframe>\n",
       "このブラウザでは利用できません。\n",
       "<hr/>\n",
       "<a href=\"./\"><img border=\"0\" src=\"./img/home.gif\"/></a>\n",
       "</noframe>\n",
       "</html>"
      ]
     },
     "execution_count": 4,
     "metadata": {},
     "output_type": "execute_result"
    }
   ],
   "source": [
    "soup"
   ]
  },
  {
   "cell_type": "code",
   "execution_count": null,
   "metadata": {},
   "outputs": [],
   "source": []
  }
 ],
 "metadata": {
  "kernelspec": {
   "display_name": "Python 3",
   "language": "python",
   "name": "python3"
  },
  "language_info": {
   "codemirror_mode": {
    "name": "ipython",
    "version": 3
   },
   "file_extension": ".py",
   "mimetype": "text/x-python",
   "name": "python",
   "nbconvert_exporter": "python",
   "pygments_lexer": "ipython3",
   "version": "3.6.8"
  }
 },
 "nbformat": 4,
 "nbformat_minor": 4
}
